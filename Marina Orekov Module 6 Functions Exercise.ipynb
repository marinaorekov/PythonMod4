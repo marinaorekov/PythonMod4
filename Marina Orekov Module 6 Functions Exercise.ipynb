{
 "cells": [
  {
   "cell_type": "markdown",
   "metadata": {},
   "source": [
    "1. Round 4.5667 to the nearest hundreth using a build-in function, round()."
   ]
  },
  {
   "cell_type": "code",
   "execution_count": 1,
   "metadata": {},
   "outputs": [
    {
     "name": "stdout",
     "output_type": "stream",
     "text": [
      "4.567\n"
     ]
    }
   ],
   "source": [
    "x = round(4.5667,3)\n",
    "print(x)"
   ]
  },
  {
   "cell_type": "markdown",
   "metadata": {},
   "source": [
    "2. Convert \"657\" to an integer data type"
   ]
  },
  {
   "cell_type": "code",
   "execution_count": 2,
   "metadata": {},
   "outputs": [
    {
     "name": "stdout",
     "output_type": "stream",
     "text": [
      "657\n"
     ]
    }
   ],
   "source": [
    "x = int(\"657\")\n",
    "print (x)\n"
   ]
  },
  {
   "cell_type": "markdown",
   "metadata": {},
   "source": [
    "3.\n",
    "Write a program to get two numbers from a user. Then, create a secret code where a code consists of 6 numbers and each number is randomly generated number between two numbers from a user. "
   ]
  },
  {
   "cell_type": "code",
   "execution_count": 8,
   "metadata": {},
   "outputs": [
    {
     "name": "stdout",
     "output_type": "stream",
     "text": [
      "Enter first number\n",
      "1\n",
      "Enter second number\n",
      "100\n",
      "1\n",
      "100\n",
      "73\n"
     ]
    }
   ],
   "source": [
    "import random\n",
    "\n",
    "print(\"Enter first number\")\n",
    "x = int(input())\n",
    "print(\"Enter second number\")\n",
    "y = int(input())\n",
    "\n",
    "print(x)\n",
    "print(y)\n",
    "\n",
    "z = (random.randrange(x, y))\n",
    "\n",
    "print(z)\n"
   ]
  },
  {
   "cell_type": "markdown",
   "metadata": {},
   "source": [
    "4.\n",
    "Write a program to center align below text where number of characters per line is 40:\n",
    "\n",
    "    Hickory, dickory, dock,\n",
    "    The mouse ran up the clock.\n",
    "    The clock struck one,\n",
    "    The mouse ran down,\n",
    "    Hickory, dickory, dock\n",
    "\n",
    "<b>Do not use string's center method! </b>"
   ]
  },
  {
   "cell_type": "code",
   "execution_count": 12,
   "metadata": {},
   "outputs": [
    {
     "name": "stdout",
     "output_type": "stream",
     "text": [
      " Hickory, dickory, dock, \n",
      "The mouse ran up the clock.\n",
      "  The clock struck one,  \n",
      "   The mouse ran down,   \n"
     ]
    }
   ],
   "source": [
    "line1 = \"Hickory, dickory, dock,\"\n",
    "line2 = \"The mouse ran up the clock.\"\n",
    "line3 = \"The clock struck one,\"\n",
    "line4 = \"The mouse ran down,\"\n",
    "line5 = \"Hickory, dickory, dock\"\n",
    "\n",
    "print(format(line1,'^25'))\n",
    "print(format(line2,'^25'))\n",
    "print(format(line3,'^25'))\n",
    "print(format(line4,'^25'))\n",
    "\n"
   ]
  },
  {
   "cell_type": "markdown",
   "metadata": {},
   "source": [
    "5. Write a function to calculate the miles per gallon.\n",
    "Get a miles driven and gallons used from a user and call your function to calculate the miles per gallon. "
   ]
  },
  {
   "cell_type": "code",
   "execution_count": 6,
   "metadata": {},
   "outputs": [
    {
     "name": "stdout",
     "output_type": "stream",
     "text": [
      "enter miles:\n",
      "100\n",
      "enter gallons:\n",
      "2\n",
      "100.0\n",
      "2.0\n",
      "50.0\n"
     ]
    }
   ],
   "source": [
    "#Input = miles\n",
    "#process = divide number of miles traveled by gallons\n",
    "#output = solution from process\n",
    "print(\"enter miles:\")\n",
    "miles = float(input())\n",
    "print(\"enter gallons:\")\n",
    "gals = float(input())\n",
    "\n",
    "print(miles)\n",
    "print(gals)\n",
    "\n",
    "\n",
    "\n",
    "def miles_per_gallon(miles,gals):\n",
    "    output = miles / gals\n",
    "    print (output)\n",
    "    \n",
    " \n",
    "miles_per_gallon(miles,gals)\n"
   ]
  },
  {
   "cell_type": "code",
   "execution_count": null,
   "metadata": {},
   "outputs": [],
   "source": []
  }
 ],
 "metadata": {
  "kernelspec": {
   "display_name": "Python 3 (ipykernel)",
   "language": "python",
   "name": "python3"
  },
  "language_info": {
   "codemirror_mode": {
    "name": "ipython",
    "version": 3
   },
   "file_extension": ".py",
   "mimetype": "text/x-python",
   "name": "python",
   "nbconvert_exporter": "python",
   "pygments_lexer": "ipython3",
   "version": "3.9.18"
  }
 },
 "nbformat": 4,
 "nbformat_minor": 4
}
